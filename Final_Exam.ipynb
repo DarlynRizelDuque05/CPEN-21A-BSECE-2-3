{
  "nbformat": 4,
  "nbformat_minor": 0,
  "metadata": {
    "colab": {
      "name": "Final Exam.ipynb",
      "provenance": [],
      "collapsed_sections": [],
      "authorship_tag": "ABX9TyM8KGN3HvmySjijlkwRTfIu",
      "include_colab_link": true
    },
    "kernelspec": {
      "name": "python3",
      "display_name": "Python 3"
    },
    "language_info": {
      "name": "python"
    }
  },
  "cells": [
    {
      "cell_type": "markdown",
      "metadata": {
        "id": "view-in-github",
        "colab_type": "text"
      },
      "source": [
        "<a href=\"https://colab.research.google.com/github/DarlynRizelDuque05/CPEN-21A-BSECE-2-3/blob/main/Final_Exam.ipynb\" target=\"_parent\"><img src=\"https://colab.research.google.com/assets/colab-badge.svg\" alt=\"Open In Colab\"/></a>"
      ]
    },
    {
      "cell_type": "markdown",
      "source": [
        "##Problem Statement 1"
      ],
      "metadata": {
        "id": "wHWR9S0IzQBC"
      }
    },
    {
      "cell_type": "code",
      "source": [
        "#Create a Python program that will produce an output of sum of 10 numbers that are less than 5 using FOR LOOP statement.\n",
        "\n",
        "sum=0\n",
        "num=[4,3,2,1,0,-1,-2,-3,-4,-5]\n",
        "for x in num:\n",
        "  print(x)\n",
        "\n",
        "  sum+=x\n",
        "print(\"The sum total of 10 numbers less than 5 is\" , sum)"
      ],
      "metadata": {
        "colab": {
          "base_uri": "https://localhost:8080/"
        },
        "id": "vILbuWLQzXDw",
        "outputId": "3cb7d084-0007-4075-ae31-b66e4490a8d3"
      },
      "execution_count": 12,
      "outputs": [
        {
          "output_type": "stream",
          "name": "stdout",
          "text": [
            "4\n",
            "3\n",
            "2\n",
            "1\n",
            "0\n",
            "-1\n",
            "-2\n",
            "-3\n",
            "-4\n",
            "-5\n",
            "The sum total of 10 numbers less than 5 is -5\n"
          ]
        }
      ]
    },
    {
      "cell_type": "markdown",
      "source": [
        "##Problem Statement 2"
      ],
      "metadata": {
        "id": "AhCc0wm12hfs"
      }
    },
    {
      "cell_type": "code",
      "source": [
        "#Create a Python program that will produce accept five numbers and determine the sum of the first and last number among the five numbers entered using WHILE LOOP.\n",
        "\n",
        "l=1\n",
        "while l<=5:\n",
        "  print(l)\n",
        "  l+=1\n",
        "n=1,2,3,4,5\n",
        "print(\"The sum of first and last digits is\", 1+5)"
      ],
      "metadata": {
        "colab": {
          "base_uri": "https://localhost:8080/"
        },
        "id": "g_Rmtcrw2n3b",
        "outputId": "d0f64698-4419-474b-c584-fad908dd0e48"
      },
      "execution_count": null,
      "outputs": [
        {
          "output_type": "stream",
          "name": "stdout",
          "text": [
            "1\n",
            "2\n",
            "3\n",
            "4\n",
            "5\n",
            "The sum of 1st and last digits is 6\n"
          ]
        }
      ]
    },
    {
      "cell_type": "markdown",
      "source": [
        "##Problem Statement 3"
      ],
      "metadata": {
        "id": "_EzZh6dj1bAV"
      }
    },
    {
      "cell_type": "code",
      "source": [
        "#Create a Python program to calculate student grades. It accepts a numerical grade as input and it will display the character grade as output based on the given scale. (Use Nested-If-Else Statement)\n",
        "\n",
        "grade=int(input(\"Input your grade:\"))\n",
        "if grade>=90:\n",
        "  print(\"A\")\n",
        "elif 80<=grade<=89:\n",
        "  print(\"B\")\n",
        "elif 70<=grade<=79:\n",
        "  print(\"C\")\n",
        "elif 6<=grade<=69:\n",
        "  print(\"D\")\n",
        "else:\n",
        "  print(\"F\")"
      ],
      "metadata": {
        "colab": {
          "base_uri": "https://localhost:8080/"
        },
        "id": "XwHV0-6A1scX",
        "outputId": "ae33b829-0b5e-4fae-c7b7-15b25f59e881"
      },
      "execution_count": 11,
      "outputs": [
        {
          "output_type": "stream",
          "name": "stdout",
          "text": [
            "Input your grade:89\n",
            "B\n"
          ]
        }
      ]
    }
  ]
}