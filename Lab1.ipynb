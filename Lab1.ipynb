{
  "nbformat": 4,
  "nbformat_minor": 0,
  "metadata": {
    "colab": {
      "name": "Lab1.ipynb",
      "provenance": [],
      "authorship_tag": "ABX9TyNSy50WdNdpG7Y0Q8Y957B2",
      "include_colab_link": true
    },
    "kernelspec": {
      "name": "python3",
      "display_name": "Python 3"
    },
    "language_info": {
      "name": "python"
    }
  },
  "cells": [
    {
      "cell_type": "markdown",
      "metadata": {
        "id": "view-in-github",
        "colab_type": "text"
      },
      "source": [
        "<a href=\"https://colab.research.google.com/github/DarlynRizelDuque05/CPEN-21A-BSECE-2-3/blob/main/Lab1.ipynb\" target=\"_parent\"><img src=\"https://colab.research.google.com/assets/colab-badge.svg\" alt=\"Open In Colab\"/></a>"
      ]
    },
    {
      "cell_type": "markdown",
      "metadata": {
        "id": "sxk2G_i6gb8a"
      },
      "source": [
        "###Laboratory 1"
      ]
    },
    {
      "cell_type": "code",
      "metadata": {
        "colab": {
          "base_uri": "https://localhost:8080/"
        },
        "id": "vB-cBzzfkFgA",
        "outputId": "b698438e-8f19-4b61-9ed6-630d88f4f870"
      },
      "source": [
        "print(\"Welcome to Python Programming\")"
      ],
      "execution_count": 11,
      "outputs": [
        {
          "output_type": "stream",
          "name": "stdout",
          "text": [
            "Welcome to Python Programming\n"
          ]
        }
      ]
    },
    {
      "cell_type": "code",
      "metadata": {
        "colab": {
          "base_uri": "https://localhost:8080/"
        },
        "id": "NGU1VlbdlFs9",
        "outputId": "a6d522e9-07d4-4e40-e7c9-aa1d2f961eb1"
      },
      "source": [
        "Name = \"Darlyn Rizel M. Duque\"\n",
        "Address = \"B14 L1 ACM Paramount Brgy. Navarro, General Trias City, Cavite\"\n",
        "Age = \"19 years old\"\n",
        "print(\"Name:\" ,Name)\n",
        "print(\"Address:\" ,Address)\n",
        "print(\"Age:\" ,Age)"
      ],
      "execution_count": 19,
      "outputs": [
        {
          "output_type": "stream",
          "name": "stdout",
          "text": [
            "Name: Darlyn Rizel M. Duque\n",
            "Address: B14 L1 ACM Paramount Brgy. Navarro, General Trias City, Cavite\n",
            "Age: 19 years old\n"
          ]
        }
      ]
    }
  ]
}