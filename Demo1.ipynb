{
  "nbformat": 4,
  "nbformat_minor": 0,
  "metadata": {
    "colab": {
      "name": "Demo1.ipynb",
      "provenance": [],
      "authorship_tag": "ABX9TyPpuXQk2vwZc2lWABaKpdv5",
      "include_colab_link": true
    },
    "kernelspec": {
      "name": "python3",
      "display_name": "Python 3"
    },
    "language_info": {
      "name": "python"
    }
  },
  "cells": [
    {
      "cell_type": "markdown",
      "metadata": {
        "id": "view-in-github",
        "colab_type": "text"
      },
      "source": [
        "<a href=\"https://colab.research.google.com/github/DarlynRizelDuque05/CPEN-21A-BSECE-2-3/blob/main/Demo1.ipynb\" target=\"_parent\"><img src=\"https://colab.research.google.com/assets/colab-badge.svg\" alt=\"Open In Colab\"/></a>"
      ]
    },
    {
      "cell_type": "markdown",
      "metadata": {
        "id": "UoN5pcMVGy6l"
      },
      "source": [
        "###Python Indentation\n"
      ]
    },
    {
      "cell_type": "code",
      "metadata": {
        "colab": {
          "base_uri": "https://localhost:8080/"
        },
        "id": "6KWH6vZyGUII",
        "outputId": "10a33ca8-e92b-4032-9df2-ad53e8466873"
      },
      "source": [
        "if 5>2:\n",
        "  print(\"Five is greater than two!\") #This code shows a string of words."
      ],
      "execution_count": 24,
      "outputs": [
        {
          "output_type": "stream",
          "name": "stdout",
          "text": [
            "Five is greater than two!\n"
          ]
        }
      ]
    },
    {
      "cell_type": "markdown",
      "metadata": {
        "id": "zL1tdLpUIETF"
      },
      "source": [
        "###Python Variable"
      ]
    },
    {
      "cell_type": "code",
      "metadata": {
        "colab": {
          "base_uri": "https://localhost:8080/"
        },
        "id": "9t20iQnoIWJq",
        "outputId": "f376547c-f976-4f5b-c3a6-58e090165c8a"
      },
      "source": [
        "a, b, c = 0, 1, 2\n",
        "d = \"Sally\" #This is a type of string\n",
        "s = 'Mark' #This is a type of string\n",
        "A = \"Raymond\" #This is a type of string\n",
        "print(a)\n",
        "print(b)\n",
        "print(c)\n",
        "print(d)\n",
        "print(s)\n",
        "print(A)"
      ],
      "execution_count": 25,
      "outputs": [
        {
          "output_type": "stream",
          "name": "stdout",
          "text": [
            "0\n",
            "1\n",
            "2\n",
            "Sally\n",
            "Mark\n",
            "Raymond\n"
          ]
        }
      ]
    },
    {
      "cell_type": "markdown",
      "metadata": {
        "id": "CRVAvX-bJHi1"
      },
      "source": [
        "###Casting"
      ]
    },
    {
      "cell_type": "code",
      "metadata": {
        "colab": {
          "base_uri": "https://localhost:8080/"
        },
        "id": "7-iOhyYJPXy-",
        "outputId": "09357daf-158f-4d0d-b960-2b3075c32c9c"
      },
      "source": [
        "print(float(4))"
      ],
      "execution_count": 28,
      "outputs": [
        {
          "output_type": "stream",
          "name": "stdout",
          "text": [
            "4.0\n"
          ]
        }
      ]
    },
    {
      "cell_type": "markdown",
      "metadata": {
        "id": "dn3T_2DUJwnL"
      },
      "source": [
        "###Type()Function"
      ]
    },
    {
      "cell_type": "code",
      "metadata": {
        "colab": {
          "base_uri": "https://localhost:8080/"
        },
        "id": "rZ9cC-8lJ3QT",
        "outputId": "f9b54882-a263-429f-9fbc-6daf35de5298"
      },
      "source": [
        "f = 56\n",
        "print(type(f))"
      ],
      "execution_count": 29,
      "outputs": [
        {
          "output_type": "stream",
          "name": "stdout",
          "text": [
            "<class 'int'>\n"
          ]
        }
      ]
    },
    {
      "cell_type": "code",
      "metadata": {
        "colab": {
          "base_uri": "https://localhost:8080/"
        },
        "id": "A5NJzObfQMDd",
        "outputId": "97116b57-c2b8-40ac-b640-25b47fc0c1a5"
      },
      "source": [
        "x, y, z =\"one\", \"two\", \"three\"\n",
        "print(x)\n",
        "print(y)\n",
        "print(z)"
      ],
      "execution_count": 30,
      "outputs": [
        {
          "output_type": "stream",
          "name": "stdout",
          "text": [
            "one\n",
            "two\n",
            "three\n"
          ]
        }
      ]
    },
    {
      "cell_type": "code",
      "metadata": {
        "colab": {
          "base_uri": "https://localhost:8080/"
        },
        "id": "GqYUw99EQbF0",
        "outputId": "2c7cdb76-23b3-4d21-ee81-6f9562a0613a"
      },
      "source": [
        "x = y = z = \"four\" #Multiple variables with single value\n",
        "print(x)\n",
        "print(y)\n",
        "print(z)"
      ],
      "execution_count": 31,
      "outputs": [
        {
          "output_type": "stream",
          "name": "stdout",
          "text": [
            "four\n",
            "four\n",
            "four\n"
          ]
        }
      ]
    },
    {
      "cell_type": "code",
      "metadata": {
        "colab": {
          "base_uri": "https://localhost:8080/"
        },
        "id": "C6tgWas5QqZW",
        "outputId": "494e0e1d-1ced-482b-c690-567d1c2b3a84"
      },
      "source": [
        "x = \"enjoying\"\n",
        "print(\"Python programming is \" + x)"
      ],
      "execution_count": 32,
      "outputs": [
        {
          "output_type": "stream",
          "name": "stdout",
          "text": [
            "Python programming is enjoying\n"
          ]
        }
      ]
    },
    {
      "cell_type": "markdown",
      "metadata": {
        "id": "RDpd30cWQ2Xi"
      },
      "source": [
        "###Operations in Python"
      ]
    },
    {
      "cell_type": "code",
      "metadata": {
        "colab": {
          "base_uri": "https://localhost:8080/"
        },
        "id": "DvBr410DQ6-0",
        "outputId": "4a77511d-7d13-4f15-9614-85940eb653f3"
      },
      "source": [
        "k = 10\n",
        "l = 5\n",
        "print(k+l)"
      ],
      "execution_count": 33,
      "outputs": [
        {
          "output_type": "stream",
          "name": "stdout",
          "text": [
            "15\n"
          ]
        }
      ]
    },
    {
      "cell_type": "code",
      "metadata": {
        "colab": {
          "base_uri": "https://localhost:8080/"
        },
        "id": "yNUfJgM_RFER",
        "outputId": "a46f8ba2-d9d2-4815-f2c0-8b63c3227d57"
      },
      "source": [
        "k += l #k is the same k = k+1\n",
        "print(k)"
      ],
      "execution_count": 34,
      "outputs": [
        {
          "output_type": "stream",
          "name": "stdout",
          "text": [
            "15\n"
          ]
        }
      ]
    },
    {
      "cell_type": "code",
      "metadata": {
        "colab": {
          "base_uri": "https://localhost:8080/"
        },
        "id": "szcYgTCWRQZO",
        "outputId": "09a7be81-51ae-46aa-89db-c86c46c0f351"
      },
      "source": [
        "k>1 and l==l"
      ],
      "execution_count": 35,
      "outputs": [
        {
          "output_type": "execute_result",
          "data": {
            "text/plain": [
              "True"
            ]
          },
          "metadata": {},
          "execution_count": 35
        }
      ]
    },
    {
      "cell_type": "code",
      "metadata": {
        "colab": {
          "base_uri": "https://localhost:8080/"
        },
        "id": "zJVLwJETRXiZ",
        "outputId": "e5cd2ec3-d0bd-4c37-bc21-7276702e12ce"
      },
      "source": [
        "k<l or k==k"
      ],
      "execution_count": 36,
      "outputs": [
        {
          "output_type": "execute_result",
          "data": {
            "text/plain": [
              "True"
            ]
          },
          "metadata": {},
          "execution_count": 36
        }
      ]
    },
    {
      "cell_type": "code",
      "metadata": {
        "colab": {
          "base_uri": "https://localhost:8080/"
        },
        "id": "XSY5DFuZRfFp",
        "outputId": "9364e63d-a8cf-4cba-d82e-678d8ab0694c"
      },
      "source": [
        "not(k<l or k==k)"
      ],
      "execution_count": 40,
      "outputs": [
        {
          "output_type": "execute_result",
          "data": {
            "text/plain": [
              "False"
            ]
          },
          "metadata": {},
          "execution_count": 40
        }
      ]
    },
    {
      "cell_type": "code",
      "metadata": {
        "colab": {
          "base_uri": "https://localhost:8080/"
        },
        "id": "NMSowtVeRXCX",
        "outputId": "a7936aad-3fc0-4db0-ed0c-7a214c8c1469"
      },
      "source": [
        "k += l #k is the same k= k+l\n",
        "print(k)"
      ],
      "execution_count": 41,
      "outputs": [
        {
          "output_type": "stream",
          "name": "stdout",
          "text": [
            "30\n"
          ]
        }
      ]
    },
    {
      "cell_type": "code",
      "metadata": {
        "colab": {
          "base_uri": "https://localhost:8080/"
        },
        "id": "KiQDpBpKR3MR",
        "outputId": "97745795-9302-4163-a381-47e024ab6090"
      },
      "source": [
        "k>1 and l==l"
      ],
      "execution_count": 42,
      "outputs": [
        {
          "output_type": "execute_result",
          "data": {
            "text/plain": [
              "True"
            ]
          },
          "metadata": {},
          "execution_count": 42
        }
      ]
    },
    {
      "cell_type": "code",
      "metadata": {
        "colab": {
          "base_uri": "https://localhost:8080/"
        },
        "id": "aWFsx-EHSHx7",
        "outputId": "cfe87d73-261e-49c1-bcd8-f6a0668b12a5"
      },
      "source": [
        "k<l or k==k"
      ],
      "execution_count": 43,
      "outputs": [
        {
          "output_type": "execute_result",
          "data": {
            "text/plain": [
              "True"
            ]
          },
          "metadata": {},
          "execution_count": 43
        }
      ]
    },
    {
      "cell_type": "code",
      "metadata": {
        "colab": {
          "base_uri": "https://localhost:8080/"
        },
        "id": "d1nsvFQhSHm8",
        "outputId": "11bc3b11-6102-4b90-9022-173d0cf5be63"
      },
      "source": [
        "not(k<l or k==k)"
      ],
      "execution_count": 44,
      "outputs": [
        {
          "output_type": "execute_result",
          "data": {
            "text/plain": [
              "False"
            ]
          },
          "metadata": {},
          "execution_count": 44
        }
      ]
    },
    {
      "cell_type": "code",
      "metadata": {
        "colab": {
          "base_uri": "https://localhost:8080/"
        },
        "id": "MX8d4ti7SS75",
        "outputId": "82e75511-c197-4dc9-a4d0-6a7f0857af6a"
      },
      "source": [
        "k is not l"
      ],
      "execution_count": 45,
      "outputs": [
        {
          "output_type": "execute_result",
          "data": {
            "text/plain": [
              "True"
            ]
          },
          "metadata": {},
          "execution_count": 45
        }
      ]
    },
    {
      "cell_type": "code",
      "metadata": {
        "id": "zAjtlU7JSXRk"
      },
      "source": [
        "k%=5"
      ],
      "execution_count": 47,
      "outputs": []
    }
  ]
}