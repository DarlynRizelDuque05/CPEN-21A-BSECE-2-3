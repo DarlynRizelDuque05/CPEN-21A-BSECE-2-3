{
  "nbformat": 4,
  "nbformat_minor": 0,
  "metadata": {
    "colab": {
      "name": "Midterm Exam.ipynb",
      "provenance": [],
      "authorship_tag": "ABX9TyOEDy7O9OC0nHeA/G7CUwxo",
      "include_colab_link": true
    },
    "kernelspec": {
      "name": "python3",
      "display_name": "Python 3"
    },
    "language_info": {
      "name": "python"
    }
  },
  "cells": [
    {
      "cell_type": "markdown",
      "metadata": {
        "id": "view-in-github",
        "colab_type": "text"
      },
      "source": [
        "<a href=\"https://colab.research.google.com/github/DarlynRizelDuque05/CPEN-21A-BSECE-2-3/blob/main/Midterm_Exam.ipynb\" target=\"_parent\"><img src=\"https://colab.research.google.com/assets/colab-badge.svg\" alt=\"Open In Colab\"/></a>"
      ]
    },
    {
      "cell_type": "markdown",
      "metadata": {
        "id": "s-YtaohNsggM"
      },
      "source": [
        "###Problem Statement 1"
      ]
    },
    {
      "cell_type": "code",
      "metadata": {
        "colab": {
          "base_uri": "https://localhost:8080/"
        },
        "id": "zm27q_xGtELm",
        "outputId": "509c9058-2795-49e2-bb39-d69bfb0c5937"
      },
      "source": [
        "a=\"Darlyn Rizel M. Duque\"\n",
        "b=\"202011857\"\n",
        "c=\"19 years old\"\n",
        "d=\"May 5, 2002\"\n",
        "e=\"Blk 14 Lot 1 ACM Paramount Brgy. Navarro, General Trias City, Cavite\"\n",
        "f=\"Bachelor of Science in Electronics and Communication Engineering (BSECE)\"\n",
        "g=\"1.77\"\n",
        "\n",
        "print(\"Full Name:\"\" \"+a) \n",
        "print(\"Student Number:\"\" \"+b)\n",
        "print(\"Age:\"\" \"+c)\n",
        "print(\"Birthday:\"\" \"+d)\n",
        "print(\"Address:\"\" \"+e)\n",
        "print(\"Course:\"\" \"+f)\n",
        "print(\"Last Sem GWA:\"\" \"+g)"
      ],
      "execution_count": 18,
      "outputs": [
        {
          "output_type": "stream",
          "name": "stdout",
          "text": [
            "Full Name: Darlyn Rizel M. Duque\n",
            "Student Number: 202011857\n",
            "Age: 19 years old\n",
            "Birthday: May 5, 2002\n",
            "Address: Blk 14 Lot 1 ACM Paramount Brgy. Navarro, General Trias City, Cavite\n",
            "Course: Bachelor of Science in Electronics and Communication Engineering (BSECE)\n",
            "Last Sem GWA: 1.77\n"
          ]
        }
      ]
    },
    {
      "cell_type": "markdown",
      "metadata": {
        "id": "MaRGVGExvoKA"
      },
      "source": [
        "###Problem Statement 2\n",
        "\n",
        "\n",
        "\n",
        "\n",
        "\n",
        "\n",
        "\n"
      ]
    },
    {
      "cell_type": "code",
      "metadata": {
        "colab": {
          "base_uri": "https://localhost:8080/"
        },
        "id": "F3728IECv1vR",
        "outputId": "f23b2635-84aa-42b9-e078-114fe232a5a9"
      },
      "source": [
        "n=4\n",
        "answ=\"Y\"\n",
        "\n",
        "print(2<n and n<6)\n",
        "print(2<n or n==6)\n",
        "print(not 2<n or n==6)\n",
        "print(not n<6)\n",
        "print(answ==\"Y\" or answ==\"y\")\n",
        "print(answ==\"Y\" and answ==\"y\")\n",
        "print(not answ==\"y\")\n",
        "print((2<n and n==5+1) or answ==\"No\")\n",
        "print((n==2 and n==7) or answ==\"Y\")\n",
        "print(n==2 and (n==7 or answ==\"Y\"))\n"
      ],
      "execution_count": 10,
      "outputs": [
        {
          "output_type": "stream",
          "name": "stdout",
          "text": [
            "True\n",
            "True\n",
            "False\n",
            "False\n",
            "True\n",
            "False\n",
            "True\n",
            "False\n",
            "True\n",
            "False\n"
          ]
        }
      ]
    },
    {
      "cell_type": "markdown",
      "metadata": {
        "id": "Q4_dCAMCzbs4"
      },
      "source": [
        "###Problem Statement 3"
      ]
    },
    {
      "cell_type": "code",
      "metadata": {
        "colab": {
          "base_uri": "https://localhost:8080/"
        },
        "id": "i3WR4cfozl94",
        "outputId": "857b1aef-497a-49cd-d53c-48acaa61dee5"
      },
      "source": [
        "x=2\n",
        "y=-3\n",
        "w=7\n",
        "z=-10\n",
        "\n",
        "print(x/y)\n",
        "print(w/y/x)\n",
        "print(z/y%x)\n",
        "print(x%-y*w)\n",
        "print(x%y)\n",
        "print(z%w-y/x*5+5)\n",
        "print(9-x%(2+y))\n",
        "print(z//w)\n",
        "print((2+y)**2)\n",
        "print(w/x*2)"
      ],
      "execution_count": 13,
      "outputs": [
        {
          "output_type": "stream",
          "name": "stdout",
          "text": [
            "-0.6666666666666666\n",
            "-1.1666666666666667\n",
            "1.3333333333333335\n",
            "14\n",
            "-1\n",
            "16.5\n",
            "9\n",
            "-2\n",
            "1\n",
            "7.0\n"
          ]
        }
      ]
    }
  ]
}